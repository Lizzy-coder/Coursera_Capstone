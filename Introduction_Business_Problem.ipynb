Capstone Project - The Battle of Neighborhoods



1 Introduction and Business Problem

1.1 Background and Problem Description

New York City (NYC) is one of the most attractive city in the US for metropolian oriented people. The amount of restraurants, attractions and cultural offerings is countless.
But what about families? Is NYC a city for families? What are the family friendliest neighborhoods?

1.2 Target group
- brokers renting accomondations
- families looking for a family friendly neighboordhood


2 Data to be used

- Data reference: 'newyork_data.json' https://cf-courses-data.s3.us.cloud-object-storage.appdomain.cloud/IBMDeveloperSkillsNetwork-DS0701EN-SkillsNetwork/labs/newyork_data.json
- Foursquare API for ratings and recommendations


3 Methology

a) Collect and inspect data 
b) Analyze the data and extract meaningful features
c) 

4 Results

5 Discussion

6 Conclusion
