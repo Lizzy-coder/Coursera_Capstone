# This code is only used for the coursera capstone project

import numpy as np
import pandas as pd

print("Hello Capstone Project Course!")
