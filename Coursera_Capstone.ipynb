# This code is only used for the coursera capstone project

import pandas as pd
import numpy as np

print("Hello Capstone Project Course!")
